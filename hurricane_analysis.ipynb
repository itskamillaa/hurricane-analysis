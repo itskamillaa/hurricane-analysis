{
 "cells": [
  {
   "cell_type": "markdown",
   "id": "7dadae23",
   "metadata": {},
   "source": [
    "**Hurricane Analysis**\n",
    "\n",
    "The goal of this project is to organise and manipulate data about Category 5 hurricanes."
   ]
  },
  {
   "cell_type": "code",
   "execution_count": 16,
   "id": "a33e7d85",
   "metadata": {},
   "outputs": [],
   "source": [
    "# names of hurricanes\n",
    "names = ['Cuba I', 'San Felipe II Okeechobee', 'Bahamas', 'Cuba II', 'CubaBrownsville', 'Tampico', 'Labor Day', 'New England', 'Carol', 'Janet', 'Carla', 'Hattie', 'Beulah', 'Camille', 'Edith', 'Anita', 'David', 'Allen', 'Gilbert', 'Hugo', 'Andrew', 'Mitch', 'Isabel', 'Ivan', 'Emily', 'Katrina', 'Rita', 'Wilma', 'Dean', 'Felix', 'Matthew', 'Irma', 'Maria', 'Michael']\n",
    "\n",
    "# months of hurricanes\n",
    "months = ['October', 'September', 'September', 'November', 'August', 'September', 'September', 'September', 'September', 'September', 'September', 'October', 'September', 'August', 'September', 'September', 'August', 'August', 'September', 'September', 'August', 'October', 'September', 'September', 'July', 'August', 'September', 'October', 'August', 'September', 'October', 'September', 'September', 'October']\n",
    "\n",
    "# years of hurricanes\n",
    "years = [1924, 1928, 1932, 1932, 1933, 1933, 1935, 1938, 1953, 1955, 1961, 1961, 1967, 1969, 1971, 1977, 1979, 1980, 1988, 1989, 1992, 1998, 2003, 2004, 2005, 2005, 2005, 2005, 2007, 2007, 2016, 2017, 2017, 2018]\n",
    "\n",
    "# maximum sustained winds (mph) of hurricanes\n",
    "max_sustained_winds = [165, 160, 160, 175, 160, 160, 185, 160, 160, 175, 175, 160, 160, 175, 160, 175, 175, 190, 185, 160, 175, 180, 165, 165, 160, 175, 180, 185, 175, 175, 165, 180, 175, 160]\n",
    "\n",
    "# areas affected by each hurricane\n",
    "areas_affected = [['Central America', 'Mexico', 'Cuba', 'Florida', 'The Bahamas'], ['Lesser Antilles', 'The Bahamas', 'United States East Coast', 'Atlantic Canada'], ['The Bahamas', 'Northeastern United States'], ['Lesser Antilles', 'Jamaica', 'Cayman Islands', 'Cuba', 'The Bahamas', 'Bermuda'], ['The Bahamas', 'Cuba', 'Florida', 'Texas', 'Tamaulipas'], ['Jamaica', 'Yucatn Peninsula'], ['The Bahamas', 'Florida', 'Georgia', 'The Carolinas', 'Virginia'], ['Southeastern United States', 'Northeastern United States', 'Southwestern Quebec'], ['Bermuda', 'New England', 'Atlantic Canada'], ['Lesser Antilles', 'Central America'], ['Texas', 'Louisiana', 'Midwestern United States'], ['Central America'], ['The Caribbean', 'Mexico', 'Texas'], ['Cuba', 'United States Gulf Coast'], ['The Caribbean', 'Central America', 'Mexico', 'United States Gulf Coast'], ['Mexico'], ['The Caribbean', 'United States East coast'], ['The Caribbean', 'Yucatn Peninsula', 'Mexico', 'South Texas'], ['Jamaica', 'Venezuela', 'Central America', 'Hispaniola', 'Mexico'], ['The Caribbean', 'United States East Coast'], ['The Bahamas', 'Florida', 'United States Gulf Coast'], ['Central America', 'Yucatn Peninsula', 'South Florida'], ['Greater Antilles', 'Bahamas', 'Eastern United States', 'Ontario'], ['The Caribbean', 'Venezuela', 'United States Gulf Coast'], ['Windward Islands', 'Jamaica', 'Mexico', 'Texas'], ['Bahamas', 'United States Gulf Coast'], ['Cuba', 'United States Gulf Coast'], ['Greater Antilles', 'Central America', 'Florida'], ['The Caribbean', 'Central America'], ['Nicaragua', 'Honduras'], ['Antilles', 'Venezuela', 'Colombia', 'United States East Coast', 'Atlantic Canada'], ['Cape Verde', 'The Caribbean', 'British Virgin Islands', 'U.S. Virgin Islands', 'Cuba', 'Florida'], ['Lesser Antilles', 'Virgin Islands', 'Puerto Rico', 'Dominican Republic', 'Turks and Caicos Islands'], ['Central America', 'United States Gulf Coast (especially Florida Panhandle)']]\n",
    "\n",
    "# damages (USD($)) of hurricanes\n",
    "damages = ['Damages not recorded', '100M', 'Damages not recorded', '40M', '27.9M', '5M', 'Damages not recorded', '306M', '2M', '65.8M', '326M', '60.3M', '208M', '1.42B', '25.4M', 'Damages not recorded', '1.54B', '1.24B', '7.1B', '10B', '26.5B', '6.2B', '5.37B', '23.3B', '1.01B', '125B', '12B', '29.4B', '1.76B', '720M', '15.1B', '64.8B', '91.6B', '25.1B']\n",
    "\n",
    "# deaths for each hurricane\n",
    "deaths = [90,4000,16,3103,179,184,408,682,5,1023,43,319,688,259,37,11,2068,269,318,107,65,19325,51,124,17,1836,125,87,45,133,603,138,3057,74]"
   ]
  },
  {
   "cell_type": "markdown",
   "id": "632a4d2f",
   "metadata": {},
   "source": [
    "The list containing *damages* is missing some of the data, where it says 'Damages not recorded'. Moreover, the entries have characters 'M' and 'B' included. To be able to use this list for analysis at later stages, we need to convert the entries to float values. The following function can be implemented for that purpose:"
   ]
  },
  {
   "cell_type": "code",
   "execution_count": 17,
   "id": "c21361a6",
   "metadata": {},
   "outputs": [],
   "source": [
    "# save prefix values in a dictionary\n",
    "conversion = {\"M\": 1000000,\n",
    "              \"B\": 1000000000}\n",
    "\n",
    "def update_recorded_damages(damages):\n",
    "    #create an empty list to store updated float values for damages\n",
    "    updated_damage = []\n",
    "    for item in damages:\n",
    "        #case 1: if the records are missing, save the entry as it is\n",
    "        if item == \"Damages not recorded\":\n",
    "            item_converted=item\n",
    "        #case 2: entry with 'B'\n",
    "        elif \"B\" in item:\n",
    "            \n",
    "            #remove the last character\n",
    "            item_converted=item[:-1]\n",
    "            \n",
    "            #retrieve the value that corresponds to key'B' and convert the numerical value to a string \n",
    "            conv_term=str(conversion.get(\"B\"))\n",
    "            \n",
    "            #concatenate the truncated entry and the value from conversion dictionary\n",
    "            item_converted=item_converted+conv_term[1:]\n",
    "        \n",
    "        #case 3: entry with 'M', repeat the steps as in case 2\n",
    "        elif \"M\" in item:\n",
    "            \n",
    "            item_converted=item[:-1]\n",
    "            conv_term=str(conversion.get(\"M\"))\n",
    "            item_converted=item_converted+conv_term[1:]\n",
    "        \n",
    "        #append each updated value to the empty list \n",
    "        updated_damage.append(item_converted)\n",
    "    return updated_damage\n",
    "\n",
    "updated_damage = update_recorded_damages(damages)\n"
   ]
  },
  {
   "cell_type": "code",
   "execution_count": 18,
   "id": "9b8cd9cd",
   "metadata": {},
   "outputs": [
    {
     "data": {
      "text/plain": [
       "['Damages not recorded',\n",
       " '100000000',\n",
       " 'Damages not recorded',\n",
       " '40000000',\n",
       " '27.9000000',\n",
       " '5000000',\n",
       " 'Damages not recorded',\n",
       " '306000000',\n",
       " '2000000',\n",
       " '65.8000000',\n",
       " '326000000',\n",
       " '60.3000000',\n",
       " '208000000',\n",
       " '1.42000000000',\n",
       " '25.4000000',\n",
       " 'Damages not recorded',\n",
       " '1.54000000000',\n",
       " '1.24000000000',\n",
       " '7.1000000000',\n",
       " '10000000000',\n",
       " '26.5000000000',\n",
       " '6.2000000000',\n",
       " '5.37000000000',\n",
       " '23.3000000000',\n",
       " '1.01000000000',\n",
       " '125000000000',\n",
       " '12000000000',\n",
       " '29.4000000000',\n",
       " '1.76000000000',\n",
       " '720000000',\n",
       " '15.1000000000',\n",
       " '64.8000000000',\n",
       " '91.6000000000',\n",
       " '25.1000000000']"
      ]
     },
     "execution_count": 18,
     "metadata": {},
     "output_type": "execute_result"
    }
   ],
   "source": [
    "#test the function that returns a list with updated damage values\n",
    "#updated_damage"
   ]
  },
  {
   "cell_type": "code",
   "execution_count": null,
   "id": "d6d917d5",
   "metadata": {},
   "outputs": [],
   "source": []
  }
 ],
 "metadata": {
  "kernelspec": {
   "display_name": "Python 3 (ipykernel)",
   "language": "python",
   "name": "python3"
  },
  "language_info": {
   "codemirror_mode": {
    "name": "ipython",
    "version": 3
   },
   "file_extension": ".py",
   "mimetype": "text/x-python",
   "name": "python",
   "nbconvert_exporter": "python",
   "pygments_lexer": "ipython3",
   "version": "3.7.10"
  }
 },
 "nbformat": 4,
 "nbformat_minor": 5
}
