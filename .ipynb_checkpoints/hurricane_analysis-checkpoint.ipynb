{
 "cells": [
  {
   "cell_type": "markdown",
   "id": "08504469",
   "metadata": {},
   "source": [
    "**Hurricane Analysis**\n",
    "\n",
    "The goal of this project is to organise and manipulate data about Category 5 hurricanes."
   ]
  },
  {
   "cell_type": "code",
   "execution_count": 69,
   "id": "76a39149",
   "metadata": {},
   "outputs": [],
   "source": [
    "# names of hurricanes\n",
    "names = ['Cuba I', 'San Felipe II Okeechobee', 'Bahamas', 'Cuba II', 'CubaBrownsville', 'Tampico', 'Labor Day', 'New England', 'Carol', 'Janet', 'Carla', 'Hattie', 'Beulah', 'Camille', 'Edith', 'Anita', 'David', 'Allen', 'Gilbert', 'Hugo', 'Andrew', 'Mitch', 'Isabel', 'Ivan', 'Emily', 'Katrina', 'Rita', 'Wilma', 'Dean', 'Felix', 'Matthew', 'Irma', 'Maria', 'Michael']\n",
    "\n",
    "# months of hurricanes\n",
    "months = ['October', 'September', 'September', 'November', 'August', 'September', 'September', 'September', 'September', 'September', 'September', 'October', 'September', 'August', 'September', 'September', 'August', 'August', 'September', 'September', 'August', 'October', 'September', 'September', 'July', 'August', 'September', 'October', 'August', 'September', 'October', 'September', 'September', 'October']\n",
    "\n",
    "# years of hurricanes\n",
    "years = [1924, 1928, 1932, 1932, 1933, 1933, 1935, 1938, 1953, 1955, 1961, 1961, 1967, 1969, 1971, 1977, 1979, 1980, 1988, 1989, 1992, 1998, 2003, 2004, 2005, 2005, 2005, 2005, 2007, 2007, 2016, 2017, 2017, 2018]\n",
    "\n",
    "# maximum sustained winds (mph) of hurricanes\n",
    "max_sustained_winds = [165, 160, 160, 175, 160, 160, 185, 160, 160, 175, 175, 160, 160, 175, 160, 175, 175, 190, 185, 160, 175, 180, 165, 165, 160, 175, 180, 185, 175, 175, 165, 180, 175, 160]\n",
    "\n",
    "# areas affected by each hurricane\n",
    "areas_affected = [['Central America', 'Mexico', 'Cuba', 'Florida', 'The Bahamas'], ['Lesser Antilles', 'The Bahamas', 'United States East Coast', 'Atlantic Canada'], ['The Bahamas', 'Northeastern United States'], ['Lesser Antilles', 'Jamaica', 'Cayman Islands', 'Cuba', 'The Bahamas', 'Bermuda'], ['The Bahamas', 'Cuba', 'Florida', 'Texas', 'Tamaulipas'], ['Jamaica', 'Yucatn Peninsula'], ['The Bahamas', 'Florida', 'Georgia', 'The Carolinas', 'Virginia'], ['Southeastern United States', 'Northeastern United States', 'Southwestern Quebec'], ['Bermuda', 'New England', 'Atlantic Canada'], ['Lesser Antilles', 'Central America'], ['Texas', 'Louisiana', 'Midwestern United States'], ['Central America'], ['The Caribbean', 'Mexico', 'Texas'], ['Cuba', 'United States Gulf Coast'], ['The Caribbean', 'Central America', 'Mexico', 'United States Gulf Coast'], ['Mexico'], ['The Caribbean', 'United States East coast'], ['The Caribbean', 'Yucatn Peninsula', 'Mexico', 'South Texas'], ['Jamaica', 'Venezuela', 'Central America', 'Hispaniola', 'Mexico'], ['The Caribbean', 'United States East Coast'], ['The Bahamas', 'Florida', 'United States Gulf Coast'], ['Central America', 'Yucatn Peninsula', 'South Florida'], ['Greater Antilles', 'Bahamas', 'Eastern United States', 'Ontario'], ['The Caribbean', 'Venezuela', 'United States Gulf Coast'], ['Windward Islands', 'Jamaica', 'Mexico', 'Texas'], ['Bahamas', 'United States Gulf Coast'], ['Cuba', 'United States Gulf Coast'], ['Greater Antilles', 'Central America', 'Florida'], ['The Caribbean', 'Central America'], ['Nicaragua', 'Honduras'], ['Antilles', 'Venezuela', 'Colombia', 'United States East Coast', 'Atlantic Canada'], ['Cape Verde', 'The Caribbean', 'British Virgin Islands', 'U.S. Virgin Islands', 'Cuba', 'Florida'], ['Lesser Antilles', 'Virgin Islands', 'Puerto Rico', 'Dominican Republic', 'Turks and Caicos Islands'], ['Central America', 'United States Gulf Coast (especially Florida Panhandle)']]\n",
    "\n",
    "# damages (USD($)) of hurricanes\n",
    "damages = ['Damages not recorded', '100M', 'Damages not recorded', '40M', '27.9M', '5M', 'Damages not recorded', '306M', '2M', '65.8M', '326M', '60.3M', '208M', '1.42B', '25.4M', 'Damages not recorded', '1.54B', '1.24B', '7.1B', '10B', '26.5B', '6.2B', '5.37B', '23.3B', '1.01B', '125B', '12B', '29.4B', '1.76B', '720M', '15.1B', '64.8B', '91.6B', '25.1B']\n",
    "\n",
    "# deaths for each hurricane\n",
    "deaths = [90,4000,16,3103,179,184,408,682,5,1023,43,319,688,259,37,11,2068,269,318,107,65,19325,51,124,17,1836,125,87,45,133,603,138,3057,74]"
   ]
  },
  {
   "cell_type": "markdown",
   "id": "2a63eee8",
   "metadata": {},
   "source": [
    "***Part I:***\n",
    "\n",
    "Write a function that returns a new list of updated damages where the recorded data is converted to float values and the missing data is retained as \"Damages not recorded\"."
   ]
  },
  {
   "cell_type": "code",
   "execution_count": 70,
   "id": "92f9f3dd",
   "metadata": {},
   "outputs": [],
   "source": [
    "# save prefix values in a dictionary\n",
    "conversion = {\"M\": 1000000,\n",
    "              \"B\": 1000000000}\n",
    "\n",
    "def update_recorded_damages(damages):\n",
    "    #create an empty list to store updated float values for damages\n",
    "    updated_damage = []\n",
    "    for item in damages:\n",
    "        #case 1: if the records are missing, save the entry as it is\n",
    "        if item == \"Damages not recorded\":\n",
    "            item_converted=item\n",
    "        #case 2: entry with 'B'\n",
    "        elif \"B\" in item:\n",
    "            \n",
    "            #remove the last character\n",
    "            item_converted=item[:-1]\n",
    "            \n",
    "            #retrieve the value that corresponds to key'B' and convert the numerical value to a string \n",
    "            conv_term=str(conversion.get(\"B\"))\n",
    "            \n",
    "            #concatenate the truncated entry and the value from conversion dictionary\n",
    "            item_converted=item_converted+conv_term[1:]\n",
    "        \n",
    "        #case 3: entry with 'M', repeat the steps as in case 2\n",
    "        elif \"M\" in item:\n",
    "            \n",
    "            item_converted=item[:-1]\n",
    "            conv_term=str(conversion.get(\"M\"))\n",
    "            item_converted=item_converted+conv_term[1:]\n",
    "        \n",
    "        #append each updated value to the empty list \n",
    "        updated_damage.append(item_converted)\n",
    "    return updated_damage\n",
    "\n",
    "updated_damage = update_recorded_damages(damages)\n"
   ]
  },
  {
   "cell_type": "code",
   "execution_count": 71,
   "id": "13cb0d24",
   "metadata": {},
   "outputs": [],
   "source": [
    "#test the function that returns a list with updated damage values\n",
    "#updated_damage"
   ]
  },
  {
   "cell_type": "markdown",
   "id": "177ffb41",
   "metadata": {},
   "source": [
    "***Part II:***\n",
    "\n",
    "Write a function that constructs a dictionary made out of the lists, where the keys of the dictionary are the names of the hurricanes, and the values are dictionaries themselves containing a key for each piece of data (Name, Month, Year,Max Sustained Wind, Areas Affected, Damage, Death) about the hurricane.\n",
    "\n",
    "*For example, the key \"Cuba I\" would have the value: {'Name': 'Cuba I', 'Month': 'October', 'Year': 1924, 'Max Sustained Wind': 165, 'Areas Affected': ['Central America', 'Mexico', 'Cuba', 'Florida', 'The Bahamas'], 'Damage': 'Damages not recorded', 'Deaths': 90}.*"
   ]
  },
  {
   "cell_type": "code",
   "execution_count": 72,
   "id": "ee4628ec",
   "metadata": {},
   "outputs": [],
   "source": [
    "def hurricanes_dict(names, months, years, max_sustained_winds, areas_affected, deaths):\n",
    "    \n",
    "    hurricane_records={}\n",
    "    \n",
    "    for index in range(len(names)):\n",
    "        #create a nested dictionary hurricane_records = {names[0]:{'Name':name[0], 'Month':months[0],'Max Sustained Wind':...},names[1]={...}}\n",
    "        hurricane_records[names[index]]={\"Name\":names[index],\"Month\": months[index], \"Year\":years[index],\"Max Sustained Wind\": max_sustained_winds[index],\"Areas Affected\": areas_affected[index],\"Damage\": updated_damage[index], \"Deaths\": deaths[index]}\n",
    "\n",
    "    return hurricane_records"
   ]
  },
  {
   "cell_type": "code",
   "execution_count": 73,
   "id": "9bb59a0b",
   "metadata": {},
   "outputs": [],
   "source": [
    "hurricanes = hurricanes_dict(names, months, years, max_sustained_winds, areas_affected, deaths)\n",
    "#hurricanes"
   ]
  },
  {
   "cell_type": "markdown",
   "id": "c53dfaba",
   "metadata": {},
   "source": [
    "***Part III:***\n",
    "\n",
    "Write a function that converts the current dictionary of hurricanes to a new dictionary, where the keys are years and the values are lists containing a dictionary for each hurricane that occurred in that year.\n",
    "\n",
    "*For example, the key 1932 would yield the value: [{'Name': 'Bahamas', 'Month': 'September', 'Year': 1932, 'Max Sustained Wind': 160, 'Areas Affected': ['The Bahamas', 'Northeastern United States'], 'Damage': 'Damages not recorded', 'Deaths': 16}, {'Name': 'Cuba II', 'Month': 'November', 'Year': 1932, 'Max Sustained Wind': 175, 'Areas Affected': ['Lesser Antilles', 'Jamaica', 'Cayman Islands', 'Cuba', 'The Bahamas', 'Bermuda'], 'Damage': 40000000.0, 'Deaths': 3103}].*"
   ]
  },
  {
   "cell_type": "code",
   "execution_count": 74,
   "id": "1f95471a",
   "metadata": {},
   "outputs": [],
   "source": [
    "def hurricane_dict_year(hurricanes):\n",
    "    hurricane_by_year={}\n",
    "    for key,value in hurricanes.items():\n",
    "        current_year=hurricanes[key][\"Year\"]\n",
    "        current_cane=hurricanes[key]\n",
    "        if current_year not in hurricane_by_year:\n",
    "            hurricane_by_year[current_year]=[current_cane]\n",
    "        else:\n",
    "            hurricane_by_year[current_year].append(current_cane)\n",
    "    return hurricane_by_year"
   ]
  },
  {
   "cell_type": "code",
   "execution_count": 75,
   "id": "123ce289",
   "metadata": {},
   "outputs": [],
   "source": [
    "hurricanes_by_year = hurricane_dict_year(hurricanes)\n",
    "#hurricanes_by_year"
   ]
  },
  {
   "cell_type": "code",
   "execution_count": null,
   "id": "76a9fc61",
   "metadata": {},
   "outputs": [],
   "source": []
  }
 ],
 "metadata": {
  "kernelspec": {
   "display_name": "Python 3 (ipykernel)",
   "language": "python",
   "name": "python3"
  },
  "language_info": {
   "codemirror_mode": {
    "name": "ipython",
    "version": 3
   },
   "file_extension": ".py",
   "mimetype": "text/x-python",
   "name": "python",
   "nbconvert_exporter": "python",
   "pygments_lexer": "ipython3",
   "version": "3.7.10"
  }
 },
 "nbformat": 4,
 "nbformat_minor": 5
}
